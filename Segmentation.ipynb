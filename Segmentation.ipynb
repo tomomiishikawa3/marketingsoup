{
 "cells": [
  {
   "cell_type": "markdown",
   "id": "d6b8f009",
   "metadata": {},
   "source": [
    "# Segmenting Customers for Food Products"
   ]
  },
  {
   "cell_type": "markdown",
   "id": "168e1ff8",
   "metadata": {},
   "source": [
    "# Problem Statement"
   ]
  },
  {
   "cell_type": "markdown",
   "id": "0e93b720",
   "metadata": {},
   "source": [
    "The goal of the project is to predict the probability that the higher-ranked player will win a tennis match. We will call that a win. This can be stated more formally as: \n",
    "For two players \n",
    " and \n",
    " where \n",
    " we calculate the probability that \n",
    " will win the match, or that a win will happen."
   ]
  },
  {
   "cell_type": "markdown",
   "id": "fc3f95cb",
   "metadata": {},
   "source": [
    "# Dataset"
   ]
  },
  {
   "cell_type": "code",
   "execution_count": 14,
   "id": "dc3148d7",
   "metadata": {
    "scrolled": true
   },
   "outputs": [
    {
     "data": {
      "text/html": [
       "<div>\n",
       "<style scoped>\n",
       "    .dataframe tbody tr th:only-of-type {\n",
       "        vertical-align: middle;\n",
       "    }\n",
       "\n",
       "    .dataframe tbody tr th {\n",
       "        vertical-align: top;\n",
       "    }\n",
       "\n",
       "    .dataframe thead th {\n",
       "        text-align: right;\n",
       "    }\n",
       "</style>\n",
       "<table border=\"1\" class=\"dataframe\">\n",
       "  <thead>\n",
       "    <tr style=\"text-align: right;\">\n",
       "      <th></th>\n",
       "      <th>Q1a</th>\n",
       "      <th>Q1b</th>\n",
       "      <th>Q1c</th>\n",
       "      <th>Q1d</th>\n",
       "      <th>Q1e</th>\n",
       "      <th>Q1f</th>\n",
       "      <th>Q1g</th>\n",
       "      <th>Q2a</th>\n",
       "      <th>Q2b</th>\n",
       "      <th>Q2c</th>\n",
       "      <th>...</th>\n",
       "      <th>Q8a</th>\n",
       "      <th>Q8b</th>\n",
       "      <th>Q8c</th>\n",
       "      <th>Q8d</th>\n",
       "      <th>Q8e</th>\n",
       "      <th>Q8f</th>\n",
       "      <th>Q8g</th>\n",
       "      <th>Q9</th>\n",
       "      <th>Q10</th>\n",
       "      <th>Q11</th>\n",
       "    </tr>\n",
       "  </thead>\n",
       "  <tbody>\n",
       "    <tr>\n",
       "      <th>0</th>\n",
       "      <td>3</td>\n",
       "      <td>2</td>\n",
       "      <td>5</td>\n",
       "      <td>4</td>\n",
       "      <td>6</td>\n",
       "      <td>5</td>\n",
       "      <td>6</td>\n",
       "      <td>6</td>\n",
       "      <td>5</td>\n",
       "      <td>1</td>\n",
       "      <td>...</td>\n",
       "      <td>2</td>\n",
       "      <td>6</td>\n",
       "      <td>2</td>\n",
       "      <td>3</td>\n",
       "      <td>5</td>\n",
       "      <td>2</td>\n",
       "      <td>5</td>\n",
       "      <td>1</td>\n",
       "      <td>2</td>\n",
       "      <td>1</td>\n",
       "    </tr>\n",
       "    <tr>\n",
       "      <th>1</th>\n",
       "      <td>2</td>\n",
       "      <td>2</td>\n",
       "      <td>3</td>\n",
       "      <td>1</td>\n",
       "      <td>2</td>\n",
       "      <td>3</td>\n",
       "      <td>6</td>\n",
       "      <td>5</td>\n",
       "      <td>2</td>\n",
       "      <td>1</td>\n",
       "      <td>...</td>\n",
       "      <td>5</td>\n",
       "      <td>6</td>\n",
       "      <td>3</td>\n",
       "      <td>2</td>\n",
       "      <td>6</td>\n",
       "      <td>6</td>\n",
       "      <td>5</td>\n",
       "      <td>1</td>\n",
       "      <td>2</td>\n",
       "      <td>1</td>\n",
       "    </tr>\n",
       "    <tr>\n",
       "      <th>2</th>\n",
       "      <td>3</td>\n",
       "      <td>6</td>\n",
       "      <td>7</td>\n",
       "      <td>6</td>\n",
       "      <td>6</td>\n",
       "      <td>2</td>\n",
       "      <td>6</td>\n",
       "      <td>2</td>\n",
       "      <td>4</td>\n",
       "      <td>4</td>\n",
       "      <td>...</td>\n",
       "      <td>6</td>\n",
       "      <td>6</td>\n",
       "      <td>2</td>\n",
       "      <td>5</td>\n",
       "      <td>7</td>\n",
       "      <td>7</td>\n",
       "      <td>4</td>\n",
       "      <td>1</td>\n",
       "      <td>2</td>\n",
       "      <td>1</td>\n",
       "    </tr>\n",
       "    <tr>\n",
       "      <th>3</th>\n",
       "      <td>5</td>\n",
       "      <td>5</td>\n",
       "      <td>2</td>\n",
       "      <td>6</td>\n",
       "      <td>7</td>\n",
       "      <td>5</td>\n",
       "      <td>3</td>\n",
       "      <td>5</td>\n",
       "      <td>3</td>\n",
       "      <td>5</td>\n",
       "      <td>...</td>\n",
       "      <td>5</td>\n",
       "      <td>7</td>\n",
       "      <td>5</td>\n",
       "      <td>7</td>\n",
       "      <td>6</td>\n",
       "      <td>2</td>\n",
       "      <td>6</td>\n",
       "      <td>2</td>\n",
       "      <td>2</td>\n",
       "      <td>1</td>\n",
       "    </tr>\n",
       "    <tr>\n",
       "      <th>4</th>\n",
       "      <td>3</td>\n",
       "      <td>7</td>\n",
       "      <td>1</td>\n",
       "      <td>6</td>\n",
       "      <td>6</td>\n",
       "      <td>6</td>\n",
       "      <td>1</td>\n",
       "      <td>1</td>\n",
       "      <td>1</td>\n",
       "      <td>1</td>\n",
       "      <td>...</td>\n",
       "      <td>4</td>\n",
       "      <td>4</td>\n",
       "      <td>4</td>\n",
       "      <td>4</td>\n",
       "      <td>4</td>\n",
       "      <td>4</td>\n",
       "      <td>4</td>\n",
       "      <td>2</td>\n",
       "      <td>2</td>\n",
       "      <td>1</td>\n",
       "    </tr>\n",
       "  </tbody>\n",
       "</table>\n",
       "<p>5 rows × 27 columns</p>\n",
       "</div>"
      ],
      "text/plain": [
       "   Q1a  Q1b  Q1c  Q1d  Q1e  Q1f  Q1g  Q2a  Q2b  Q2c  ...  Q8a  Q8b  Q8c  Q8d  \\\n",
       "0    3    2    5    4    6    5    6    6    5    1  ...    2    6    2    3   \n",
       "1    2    2    3    1    2    3    6    5    2    1  ...    5    6    3    2   \n",
       "2    3    6    7    6    6    2    6    2    4    4  ...    6    6    2    5   \n",
       "3    5    5    2    6    7    5    3    5    3    5  ...    5    7    5    7   \n",
       "4    3    7    1    6    6    6    1    1    1    1  ...    4    4    4    4   \n",
       "\n",
       "   Q8e  Q8f  Q8g  Q9  Q10  Q11  \n",
       "0    5    2    5   1    2    1  \n",
       "1    6    6    5   1    2    1  \n",
       "2    7    7    4   1    2    1  \n",
       "3    6    2    6   2    2    1  \n",
       "4    4    4    4   2    2    1  \n",
       "\n",
       "[5 rows x 27 columns]"
      ]
     },
     "execution_count": 14,
     "metadata": {},
     "output_type": "execute_result"
    }
   ],
   "source": [
    "import pandas as pd\n",
    "df = pd.read_csv('Soup.csv')\n",
    "df.head()"
   ]
  },
  {
   "cell_type": "markdown",
   "id": "b0058551",
   "metadata": {},
   "source": [
    "Each column stands for survey answer for questions\n"
   ]
  },
  {
   "cell_type": "code",
   "execution_count": null,
   "id": "a38423dc",
   "metadata": {},
   "outputs": [],
   "source": []
  },
  {
   "cell_type": "code",
   "execution_count": 17,
   "id": "7996877a",
   "metadata": {},
   "outputs": [
    {
     "name": "stdout",
     "output_type": "stream",
     "text": [
      "<class 'pandas.core.frame.DataFrame'>\n",
      "RangeIndex: 178 entries, 0 to 177\n",
      "Data columns (total 27 columns):\n",
      " #   Column  Non-Null Count  Dtype\n",
      "---  ------  --------------  -----\n",
      " 0   Q1a     178 non-null    int64\n",
      " 1   Q1b     178 non-null    int64\n",
      " 2   Q1c     178 non-null    int64\n",
      " 3   Q1d     178 non-null    int64\n",
      " 4   Q1e     178 non-null    int64\n",
      " 5   Q1f     178 non-null    int64\n",
      " 6   Q1g     178 non-null    int64\n",
      " 7   Q2a     178 non-null    int64\n",
      " 8   Q2b     178 non-null    int64\n",
      " 9   Q2c     178 non-null    int64\n",
      " 10  Q3      178 non-null    int64\n",
      " 11  Q4a     178 non-null    int64\n",
      " 12  Q4b     178 non-null    int64\n",
      " 13  Q4c     178 non-null    int64\n",
      " 14  Q5      178 non-null    int64\n",
      " 15  Q6      178 non-null    int64\n",
      " 16  Q7      178 non-null    int64\n",
      " 17  Q8a     178 non-null    int64\n",
      " 18  Q8b     178 non-null    int64\n",
      " 19  Q8c     178 non-null    int64\n",
      " 20  Q8d     178 non-null    int64\n",
      " 21  Q8e     178 non-null    int64\n",
      " 22  Q8f     178 non-null    int64\n",
      " 23  Q8g     178 non-null    int64\n",
      " 24  Q9      178 non-null    int64\n",
      " 25  Q10     178 non-null    int64\n",
      " 26  Q11     178 non-null    int64\n",
      "dtypes: int64(27)\n",
      "memory usage: 37.7 KB\n"
     ]
    }
   ],
   "source": [
    "df.info()"
   ]
  },
  {
   "cell_type": "code",
   "execution_count": null,
   "id": "328d194f",
   "metadata": {},
   "outputs": [],
   "source": []
  },
  {
   "cell_type": "markdown",
   "id": "c48d13a0",
   "metadata": {},
   "source": [
    "# Features"
   ]
  },
  {
   "cell_type": "code",
   "execution_count": null,
   "id": "f8a997f4",
   "metadata": {},
   "outputs": [],
   "source": [
    "print(\"abc\")"
   ]
  },
  {
   "cell_type": "code",
   "execution_count": null,
   "id": "d9a00ca4",
   "metadata": {},
   "outputs": [],
   "source": []
  },
  {
   "cell_type": "markdown",
   "id": "6b643272",
   "metadata": {},
   "source": [
    "# Importing Basic Modules"
   ]
  },
  {
   "cell_type": "code",
   "execution_count": null,
   "id": "6762ae30",
   "metadata": {},
   "outputs": [],
   "source": [
    "import numpy as np\n",
    "import matplotlib.pyplot as plt\n",
    "import plotly.express as px\n",
    "from sklearn.decomposition import FactorAnalysis\n",
    "from sklearn import KMeans\n",
    "import seaborn as sns\n",
    "%matplotlib inline"
   ]
  },
  {
   "cell_type": "markdown",
   "id": "f971bddf",
   "metadata": {},
   "source": [
    "# Data Pre-Processing"
   ]
  },
  {
   "cell_type": "code",
   "execution_count": null,
   "id": "0b5b016c",
   "metadata": {},
   "outputs": [],
   "source": []
  },
  {
   "cell_type": "markdown",
   "id": "0d333ed4",
   "metadata": {},
   "source": [
    "# Exploratory Analysis"
   ]
  },
  {
   "cell_type": "code",
   "execution_count": null,
   "id": "bf51b037",
   "metadata": {},
   "outputs": [],
   "source": []
  },
  {
   "cell_type": "markdown",
   "id": "1416802c",
   "metadata": {},
   "source": [
    "# Dummy variables"
   ]
  },
  {
   "cell_type": "code",
   "execution_count": null,
   "id": "5135cf61",
   "metadata": {},
   "outputs": [],
   "source": []
  },
  {
   "cell_type": "markdown",
   "id": "db1346a1",
   "metadata": {},
   "source": [
    "# Factor Analysis"
   ]
  },
  {
   "cell_type": "code",
   "execution_count": null,
   "id": "eca12dfd",
   "metadata": {},
   "outputs": [],
   "source": []
  },
  {
   "cell_type": "markdown",
   "id": "568e1d86",
   "metadata": {},
   "source": [
    "# Cluster Analysis"
   ]
  },
  {
   "cell_type": "code",
   "execution_count": null,
   "id": "0a9c246b",
   "metadata": {},
   "outputs": [],
   "source": []
  },
  {
   "cell_type": "markdown",
   "id": "10c47da8",
   "metadata": {},
   "source": [
    "# Conclusion"
   ]
  },
  {
   "cell_type": "markdown",
   "id": "9032cb95",
   "metadata": {},
   "source": [
    "XXXXXXXXXXXXXXXXXXXXXXXXXXXx"
   ]
  }
 ],
 "metadata": {
  "kernelspec": {
   "display_name": "Python 3 (ipykernel)",
   "language": "python",
   "name": "python3"
  },
  "language_info": {
   "codemirror_mode": {
    "name": "ipython",
    "version": 3
   },
   "file_extension": ".py",
   "mimetype": "text/x-python",
   "name": "python",
   "nbconvert_exporter": "python",
   "pygments_lexer": "ipython3",
   "version": "3.11.4"
  }
 },
 "nbformat": 4,
 "nbformat_minor": 5
}
